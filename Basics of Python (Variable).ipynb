{
 "cells": [
  {
   "cell_type": "code",
   "execution_count": 2,
   "id": "7345b2b5",
   "metadata": {
    "scrolled": true
   },
   "outputs": [
    {
     "name": "stdout",
     "output_type": "stream",
     "text": [
      "Five is greater than two!\n"
     ]
    }
   ],
   "source": [
    "if 5 > 2:\n",
    "    print(\"Five is greater than two!\")"
   ]
  },
  {
   "cell_type": "code",
   "execution_count": 6,
   "id": "8bb2f6c5",
   "metadata": {},
   "outputs": [
    {
     "name": "stdout",
     "output_type": "stream",
     "text": [
      "Five is greater than two!\n",
      "Five is greater than two!\n"
     ]
    }
   ],
   "source": [
    "if 5 > 2:\n",
    "    print(\"Five is greater than two!\")\n",
    "if 5 > 2:\n",
    "    print(\"Five is greater than two!\")"
   ]
  },
  {
   "cell_type": "markdown",
   "id": "7db97562",
   "metadata": {},
   "source": [
    "# Python Variables\n",
    "In Python, variables are created when you assign a value to it:"
   ]
  },
  {
   "cell_type": "code",
   "execution_count": 11,
   "id": "9325ed4e",
   "metadata": {},
   "outputs": [],
   "source": [
    "x = 5\n",
    "y = \"Hello, World!\""
   ]
  },
  {
   "cell_type": "code",
   "execution_count": 12,
   "id": "91b7b865",
   "metadata": {},
   "outputs": [
    {
     "name": "stdout",
     "output_type": "stream",
     "text": [
      "5\n",
      "John\n"
     ]
    }
   ],
   "source": [
    "x = 5\n",
    "y = \"John\"\n",
    "print(x)\n",
    "print(y)"
   ]
  },
  {
   "cell_type": "code",
   "execution_count": 13,
   "id": "bf18a7f0",
   "metadata": {},
   "outputs": [
    {
     "name": "stdout",
     "output_type": "stream",
     "text": [
      "4\n"
     ]
    }
   ],
   "source": [
    "x = 4   # x is of type int\n",
    "X = \"Sally\"   # x is now of type str\n",
    "print(x)"
   ]
  },
  {
   "cell_type": "markdown",
   "id": "4dae5b38",
   "metadata": {},
   "source": [
    "# casting"
   ]
  },
  {
   "cell_type": "code",
   "execution_count": 15,
   "id": "e9bb8438",
   "metadata": {},
   "outputs": [],
   "source": [
    "# if you want to specify the data type of a variable, this can be done with casting\n",
    "x = str(3)   # x will be '3'\n",
    "y = int(3)   # y will be 3\n",
    "z = float(3)  # z will be 3.0"
   ]
  },
  {
   "cell_type": "code",
   "execution_count": 17,
   "id": "5766c764",
   "metadata": {},
   "outputs": [
    {
     "name": "stdout",
     "output_type": "stream",
     "text": [
      "3\n",
      "3\n",
      "3.0\n"
     ]
    }
   ],
   "source": [
    "print (x)\n",
    "print(y)\n",
    "print(z)"
   ]
  },
  {
   "cell_type": "markdown",
   "id": "5af2d87f",
   "metadata": {},
   "source": [
    "# Get the Type\n",
    "using type() function"
   ]
  },
  {
   "cell_type": "code",
   "execution_count": 19,
   "id": "6c6355df",
   "metadata": {},
   "outputs": [
    {
     "name": "stdout",
     "output_type": "stream",
     "text": [
      "<class 'int'>\n",
      "<class 'str'>\n"
     ]
    }
   ],
   "source": [
    "x = 5\n",
    "y = \"John\"\n",
    "print(type(x))\n",
    "print(type(y))"
   ]
  },
  {
   "cell_type": "markdown",
   "id": "c8b85dc2",
   "metadata": {},
   "source": [
    "# single or double quotes?"
   ]
  },
  {
   "cell_type": "code",
   "execution_count": 21,
   "id": "cd6699bd",
   "metadata": {},
   "outputs": [],
   "source": [
    "# string variables can be declared either by using single or double quotes:\n",
    "x = \"John\"\n",
    "# is the same as\n",
    "x = 'John'"
   ]
  },
  {
   "cell_type": "code",
   "execution_count": 22,
   "id": "675fd4b3",
   "metadata": {},
   "outputs": [
    {
     "name": "stdout",
     "output_type": "stream",
     "text": [
      "John\n"
     ]
    }
   ],
   "source": [
    "print (x)"
   ]
  },
  {
   "cell_type": "markdown",
   "id": "c87a0d9a",
   "metadata": {},
   "source": [
    "# case sensitive"
   ]
  },
  {
   "cell_type": "code",
   "execution_count": 24,
   "id": "9acf2e7f",
   "metadata": {},
   "outputs": [],
   "source": [
    "# variable names are case-sensitive\n",
    "# e.g. this will create two variables:\n",
    "a =  4\n",
    "A = \"Sally\"\n",
    "#A will not overwrite a\n"
   ]
  },
  {
   "cell_type": "code",
   "execution_count": 25,
   "id": "d5018b22",
   "metadata": {},
   "outputs": [
    {
     "name": "stdout",
     "output_type": "stream",
     "text": [
      "4\n"
     ]
    }
   ],
   "source": [
    "print(a)"
   ]
  },
  {
   "cell_type": "code",
   "execution_count": 26,
   "id": "719d6878",
   "metadata": {},
   "outputs": [
    {
     "name": "stdout",
     "output_type": "stream",
     "text": [
      "Sally\n"
     ]
    }
   ],
   "source": [
    "print(A)"
   ]
  },
  {
   "cell_type": "markdown",
   "id": "ae5f935c",
   "metadata": {},
   "source": [
    "# Python - Variable Names"
   ]
  },
  {
   "cell_type": "code",
   "execution_count": 28,
   "id": "0d9fafc6",
   "metadata": {},
   "outputs": [],
   "source": [
    "# variable names\n",
    "# a variable can have a short name (like x and y) or a more descriptive name (age, carname, total_volume)\n",
    "# Rule for Python variables:\n",
    "# a variable name must start with a letter or underscore character\n",
    "# a variable name cannot start with a number\n",
    "# a variable name can only contain alpha-numeric characters and underscores (A-z, 0-9, and _)\n",
    "# Variable names are case-sensitive (age, Age, AGE are three different variables)\n"
   ]
  },
  {
   "cell_type": "code",
   "execution_count": 29,
   "id": "6a3db11e",
   "metadata": {},
   "outputs": [],
   "source": [
    "# legal variable names\n",
    "myvar = \"John\"\n",
    "my_var = \"John\"\n",
    "_my_var = \"John\"\n",
    "myVar = \"John\"\n",
    "MYVAR = \"John\"\n",
    "myvar2 = \"John\""
   ]
  },
  {
   "cell_type": "code",
   "execution_count": 30,
   "id": "5f0b7bd6",
   "metadata": {},
   "outputs": [
    {
     "name": "stdout",
     "output_type": "stream",
     "text": [
      "John\n"
     ]
    }
   ],
   "source": [
    "print (myvar)"
   ]
  },
  {
   "cell_type": "code",
   "execution_count": 31,
   "id": "ddfd2ee1",
   "metadata": {},
   "outputs": [
    {
     "name": "stdout",
     "output_type": "stream",
     "text": [
      "John\n"
     ]
    }
   ],
   "source": [
    "print(my_var)"
   ]
  },
  {
   "cell_type": "code",
   "execution_count": 32,
   "id": "7cc3fa88",
   "metadata": {},
   "outputs": [
    {
     "name": "stdout",
     "output_type": "stream",
     "text": [
      "John\n"
     ]
    }
   ],
   "source": [
    "print(_my_var)"
   ]
  },
  {
   "cell_type": "code",
   "execution_count": 33,
   "id": "96a0fbaa",
   "metadata": {},
   "outputs": [
    {
     "name": "stdout",
     "output_type": "stream",
     "text": [
      "John\n",
      "John\n",
      "John\n"
     ]
    }
   ],
   "source": [
    "print(myVar)\n",
    "print(MYVAR)\n",
    "print(myvar2)"
   ]
  },
  {
   "cell_type": "code",
   "execution_count": 34,
   "id": "12222efb",
   "metadata": {},
   "outputs": [
    {
     "ename": "SyntaxError",
     "evalue": "invalid syntax (Temp/ipykernel_30276/629870835.py, line 2)",
     "output_type": "error",
     "traceback": [
      "\u001b[1;36m  File \u001b[1;32m\"C:\\Users\\malih\\AppData\\Local\\Temp/ipykernel_30276/629870835.py\"\u001b[1;36m, line \u001b[1;32m2\u001b[0m\n\u001b[1;33m    2myvar = \"John\"\u001b[0m\n\u001b[1;37m     ^\u001b[0m\n\u001b[1;31mSyntaxError\u001b[0m\u001b[1;31m:\u001b[0m invalid syntax\n"
     ]
    }
   ],
   "source": [
    "# illegal variable names:\n",
    "2myvar = \"John\"\n",
    "my-var = \"John\"\n",
    "my var = \"John\"\n",
    "print(2myvar)"
   ]
  },
  {
   "cell_type": "markdown",
   "id": "b35bc7a7",
   "metadata": {},
   "source": [
    "# Multi Words Variable Names"
   ]
  },
  {
   "cell_type": "code",
   "execution_count": 36,
   "id": "51f0f83a",
   "metadata": {},
   "outputs": [],
   "source": [
    "# variable names with more than one word can be difficult to read\n",
    "#there are several techniques you can use to make them more readable"
   ]
  },
  {
   "cell_type": "markdown",
   "id": "93bebcfe",
   "metadata": {},
   "source": [
    "## camel case"
   ]
  },
  {
   "cell_type": "code",
   "execution_count": 38,
   "id": "53da7da5",
   "metadata": {},
   "outputs": [],
   "source": [
    "# each word except the first, starts with a capital letter\n",
    "myVariableName = \"John\""
   ]
  },
  {
   "cell_type": "markdown",
   "id": "e08dd6bf",
   "metadata": {},
   "source": [
    "## Pascal Case"
   ]
  },
  {
   "cell_type": "code",
   "execution_count": 47,
   "id": "3a8370c0",
   "metadata": {},
   "outputs": [],
   "source": [
    "# each word starts with a capital letter\n",
    "MyVariableName = \"John\""
   ]
  },
  {
   "cell_type": "markdown",
   "id": "e68e2d11",
   "metadata": {},
   "source": [
    "## Snake Case"
   ]
  },
  {
   "cell_type": "code",
   "execution_count": 49,
   "id": "c5433ad9",
   "metadata": {},
   "outputs": [],
   "source": [
    "# each word is separated by an underscore character\n",
    "my_variable_name = \"John\""
   ]
  },
  {
   "cell_type": "markdown",
   "id": "50f8edfc",
   "metadata": {},
   "source": [
    "# Python Variables - Assign Multiple Values\n"
   ]
  },
  {
   "cell_type": "markdown",
   "id": "698e1587",
   "metadata": {},
   "source": [
    "## a. Many values to multiple variables"
   ]
  },
  {
   "cell_type": "code",
   "execution_count": 54,
   "id": "808225cf",
   "metadata": {},
   "outputs": [
    {
     "name": "stdout",
     "output_type": "stream",
     "text": [
      "Orange\n",
      "Banana\n",
      "Cherry\n"
     ]
    }
   ],
   "source": [
    "# python allows you to assign values to multiple variables in one line\n",
    "x, y, z = \"Orange\", \"Banana\", \"Cherry\"\n",
    "print(x)\n",
    "print(y)\n",
    "print(z)"
   ]
  },
  {
   "cell_type": "markdown",
   "id": "57c28698",
   "metadata": {},
   "source": [
    "## b. One Value to Multiple Variables"
   ]
  },
  {
   "cell_type": "code",
   "execution_count": 56,
   "id": "e80b88b3",
   "metadata": {},
   "outputs": [
    {
     "name": "stdout",
     "output_type": "stream",
     "text": [
      "Orange\n",
      "Orange\n",
      "Orange\n"
     ]
    }
   ],
   "source": [
    "x = y = z = \"Orange\"\n",
    "print(x)\n",
    "print(y)\n",
    "print(z)"
   ]
  },
  {
   "cell_type": "markdown",
   "id": "78f74586",
   "metadata": {},
   "source": [
    "## c. Unpack a Collection"
   ]
  },
  {
   "cell_type": "code",
   "execution_count": 58,
   "id": "0715498c",
   "metadata": {},
   "outputs": [
    {
     "name": "stdout",
     "output_type": "stream",
     "text": [
      "apple\n",
      "banana\n",
      "cherry\n"
     ]
    }
   ],
   "source": [
    "# unpack a list\n",
    "fruits = [\"apple\", \"banana\", \"cherry\"]\n",
    "x, y, z = fruits\n",
    "print(x)\n",
    "print(y)\n",
    "print(z)"
   ]
  },
  {
   "cell_type": "markdown",
   "id": "914c48b0",
   "metadata": {},
   "source": [
    "# Python - Output - variables"
   ]
  },
  {
   "cell_type": "markdown",
   "id": "8c512bff",
   "metadata": {},
   "source": [
    "## a. Output Variables"
   ]
  },
  {
   "cell_type": "code",
   "execution_count": 62,
   "id": "721cd30e",
   "metadata": {},
   "outputs": [
    {
     "name": "stdout",
     "output_type": "stream",
     "text": [
      "Python is awesome\n"
     ]
    }
   ],
   "source": [
    "x = \"Python is awesome\"\n",
    "print(x)"
   ]
  },
  {
   "cell_type": "code",
   "execution_count": 63,
   "id": "ddcf2fff",
   "metadata": {},
   "outputs": [
    {
     "name": "stdout",
     "output_type": "stream",
     "text": [
      "Python is awesome\n"
     ]
    }
   ],
   "source": [
    "# in the print() function, you output multiple variables, separated by a comma:\n",
    "x = \"Python\"\n",
    "y = \"is\"\n",
    "z = \"awesome\"\n",
    "print(x, y, z)"
   ]
  },
  {
   "cell_type": "code",
   "execution_count": 64,
   "id": "f975d7e6",
   "metadata": {},
   "outputs": [
    {
     "name": "stdout",
     "output_type": "stream",
     "text": [
      "Pythonisawesome\n"
     ]
    }
   ],
   "source": [
    "# you can also use the + operator to output multiple variables:\n",
    "x = \"Python\"\n",
    "y = \"is\"\n",
    "z = \"awesome\"\n",
    "print(x + y + z)\n"
   ]
  },
  {
   "cell_type": "code",
   "execution_count": 65,
   "id": "e127c753",
   "metadata": {},
   "outputs": [
    {
     "name": "stdout",
     "output_type": "stream",
     "text": [
      "python is awesome \n"
     ]
    }
   ],
   "source": [
    "x = \"python \"\n",
    "y = \"is \"\n",
    "z = \"awesome \"\n",
    "print(x + y + z)"
   ]
  },
  {
   "cell_type": "code",
   "execution_count": 66,
   "id": "623017f8",
   "metadata": {},
   "outputs": [
    {
     "name": "stdout",
     "output_type": "stream",
     "text": [
      "15\n"
     ]
    }
   ],
   "source": [
    "# for numbers, the + character works as a mathematical operator\n",
    "x = 5\n",
    "y = 10\n",
    "print(x + y)"
   ]
  },
  {
   "cell_type": "code",
   "execution_count": 67,
   "id": "6017f318",
   "metadata": {},
   "outputs": [
    {
     "ename": "TypeError",
     "evalue": "unsupported operand type(s) for +: 'int' and 'str'",
     "output_type": "error",
     "traceback": [
      "\u001b[1;31m---------------------------------------------------------------------------\u001b[0m",
      "\u001b[1;31mTypeError\u001b[0m                                 Traceback (most recent call last)",
      "\u001b[1;32m~\\AppData\\Local\\Temp/ipykernel_30276/2702217197.py\u001b[0m in \u001b[0;36m<module>\u001b[1;34m\u001b[0m\n\u001b[0;32m      2\u001b[0m \u001b[0mx\u001b[0m \u001b[1;33m=\u001b[0m \u001b[1;36m5\u001b[0m\u001b[1;33m\u001b[0m\u001b[1;33m\u001b[0m\u001b[0m\n\u001b[0;32m      3\u001b[0m \u001b[0my\u001b[0m \u001b[1;33m=\u001b[0m \u001b[1;34m\"John\"\u001b[0m\u001b[1;33m\u001b[0m\u001b[1;33m\u001b[0m\u001b[0m\n\u001b[1;32m----> 4\u001b[1;33m \u001b[0mprint\u001b[0m \u001b[1;33m(\u001b[0m\u001b[0mx\u001b[0m \u001b[1;33m+\u001b[0m \u001b[0my\u001b[0m\u001b[1;33m)\u001b[0m\u001b[1;33m\u001b[0m\u001b[1;33m\u001b[0m\u001b[0m\n\u001b[0m",
      "\u001b[1;31mTypeError\u001b[0m: unsupported operand type(s) for +: 'int' and 'str'"
     ]
    }
   ],
   "source": [
    "# string and number will not be combined using + operator\n",
    "x = 5\n",
    "y = \"John\"\n",
    "print (x + y)"
   ]
  },
  {
   "cell_type": "code",
   "execution_count": 68,
   "id": "3a80528d",
   "metadata": {},
   "outputs": [
    {
     "name": "stdout",
     "output_type": "stream",
     "text": [
      "5 John\n"
     ]
    }
   ],
   "source": [
    "# the best way to output multiple variables in the print() function is to separate them with commas, not with + operator\n",
    "x = 5\n",
    "y = \"John\"\n",
    "print(x, y)"
   ]
  },
  {
   "cell_type": "markdown",
   "id": "8714af5f",
   "metadata": {},
   "source": [
    "# Python - Global variables"
   ]
  },
  {
   "cell_type": "markdown",
   "id": "679deec2",
   "metadata": {},
   "source": [
    "## a. Global Variables"
   ]
  },
  {
   "cell_type": "code",
   "execution_count": 71,
   "id": "d9d8a922",
   "metadata": {},
   "outputs": [],
   "source": [
    "# variables that are created outside of a function are known as global variables\n",
    "# can be used by everyone, both inside of functions and outside"
   ]
  },
  {
   "cell_type": "code",
   "execution_count": 72,
   "id": "390594cf",
   "metadata": {},
   "outputs": [],
   "source": [
    "# create a variable outside of a function, and use it inside the function"
   ]
  },
  {
   "cell_type": "code",
   "execution_count": 75,
   "id": "f6436c14",
   "metadata": {},
   "outputs": [
    {
     "name": "stdout",
     "output_type": "stream",
     "text": [
      "Python is awesome\n"
     ]
    }
   ],
   "source": [
    "x = \"awesome\"\n",
    "\n",
    "def myfunc():\n",
    "        print(\"Python is \" + x)\n",
    "        \n",
    "myfunc()"
   ]
  },
  {
   "cell_type": "code",
   "execution_count": 74,
   "id": "bde030fd",
   "metadata": {},
   "outputs": [
    {
     "name": "stdout",
     "output_type": "stream",
     "text": [
      "Python is fantastic\n",
      "Python is awesome\n"
     ]
    }
   ],
   "source": [
    "x = \"awesome\"\n",
    "def myfunc():\n",
    "    x = \"fantastic\"\n",
    "    print(\"Python is \" + x)\n",
    "    \n",
    "myfunc()\n",
    "\n",
    "print(\"Python is \" +x)"
   ]
  },
  {
   "cell_type": "markdown",
   "id": "3e5e4442",
   "metadata": {},
   "source": [
    "## b. Global Keyword"
   ]
  },
  {
   "cell_type": "code",
   "execution_count": 78,
   "id": "2b5a51a7",
   "metadata": {},
   "outputs": [
    {
     "name": "stdout",
     "output_type": "stream",
     "text": [
      "Python is fantastic\n"
     ]
    }
   ],
   "source": [
    "# to create a global variable inside a function, you can use the global keyword\n",
    "# if you use the global keyword, the variabe belongs to the global scope\n",
    "\n",
    "def myfunc():\n",
    "    global x \n",
    "    x = \"fantastic\"\n",
    "    \n",
    "myfunc()\n",
    "\n",
    "print(\"Python is \" + x)"
   ]
  },
  {
   "cell_type": "code",
   "execution_count": 80,
   "id": "31614ec5",
   "metadata": {},
   "outputs": [
    {
     "name": "stdout",
     "output_type": "stream",
     "text": [
      "Python is fantastic\n"
     ]
    }
   ],
   "source": [
    "# Also, use the global keyword if you want to change a global variable inside a function\n",
    "# to change the value of a global variable inside a function, refer to the variable by using the global keyword\n",
    "\n",
    "x = \"awesome\"\n",
    "\n",
    "def myfunc():\n",
    "    global x\n",
    "    x = \"fantastic\"\n",
    "    \n",
    "myfunc()\n",
    "\n",
    "print(\"Python is \" + x)"
   ]
  },
  {
   "cell_type": "markdown",
   "id": "e85e6ae9",
   "metadata": {},
   "source": [
    "# Variable Exercises"
   ]
  },
  {
   "cell_type": "code",
   "execution_count": 81,
   "id": "55edec4f",
   "metadata": {},
   "outputs": [
    {
     "name": "stdout",
     "output_type": "stream",
     "text": [
      "Volvo\n"
     ]
    }
   ],
   "source": [
    "# create a variable named 'carname' and assign the value 'Volvo' to it\n",
    "carname = \"Volvo\"\n",
    "print(carname)"
   ]
  },
  {
   "cell_type": "code",
   "execution_count": 82,
   "id": "b2c3a873",
   "metadata": {},
   "outputs": [
    {
     "name": "stdout",
     "output_type": "stream",
     "text": [
      "50\n"
     ]
    }
   ],
   "source": [
    "# create a variable named 'x' and assign the value '50' to it\n",
    "x = 50\n",
    "print(x)"
   ]
  },
  {
   "cell_type": "code",
   "execution_count": 83,
   "id": "106fcf26",
   "metadata": {},
   "outputs": [
    {
     "name": "stdout",
     "output_type": "stream",
     "text": [
      "15\n"
     ]
    }
   ],
   "source": [
    "# display the sum of '5 + 10', using two variables: x and y\n",
    "x = 5\n",
    "y = 10\n",
    "print(x+y)"
   ]
  },
  {
   "cell_type": "code",
   "execution_count": 84,
   "id": "020d3b11",
   "metadata": {},
   "outputs": [
    {
     "name": "stdout",
     "output_type": "stream",
     "text": [
      "15\n"
     ]
    }
   ],
   "source": [
    "# create a variable called 'z', assign 'x + y' to it, and display the result\n",
    "x = 5\n",
    "y = 10\n",
    "z = x + y\n",
    "print(z)"
   ]
  },
  {
   "cell_type": "code",
   "execution_count": 85,
   "id": "c7486adf",
   "metadata": {},
   "outputs": [
    {
     "ename": "SyntaxError",
     "evalue": "invalid syntax (Temp/ipykernel_30276/1366988463.py, line 2)",
     "output_type": "error",
     "traceback": [
      "\u001b[1;36m  File \u001b[1;32m\"C:\\Users\\malih\\AppData\\Local\\Temp/ipykernel_30276/1366988463.py\"\u001b[1;36m, line \u001b[1;32m2\u001b[0m\n\u001b[1;33m    2my-first_name = \"John\"\u001b[0m\n\u001b[1;37m     ^\u001b[0m\n\u001b[1;31mSyntaxError\u001b[0m\u001b[1;31m:\u001b[0m invalid syntax\n"
     ]
    }
   ],
   "source": [
    "# remove the illegal characters in the variable name\n",
    "2my-first_name = \"John\""
   ]
  },
  {
   "cell_type": "code",
   "execution_count": 86,
   "id": "24b9afa0",
   "metadata": {},
   "outputs": [],
   "source": [
    "#correct form\n",
    "myfirst_name = \"John\""
   ]
  },
  {
   "cell_type": "code",
   "execution_count": 87,
   "id": "26550ca0",
   "metadata": {},
   "outputs": [],
   "source": [
    "# insert the correct syntax to assign the same value to all three variables in one code line\n",
    "x = y = z = \"Orange\""
   ]
  },
  {
   "cell_type": "code",
   "execution_count": 88,
   "id": "84b9cf08",
   "metadata": {},
   "outputs": [],
   "source": [
    "# insert the correct keyword to make the variable 'x' belong to the global scope\n",
    "def myfunc():\n",
    "    global x \n",
    "    x = \"fantastic\""
   ]
  },
  {
   "cell_type": "code",
   "execution_count": null,
   "id": "c3c4baeb",
   "metadata": {},
   "outputs": [],
   "source": []
  }
 ],
 "metadata": {
  "kernelspec": {
   "display_name": "Python 3 (ipykernel)",
   "language": "python",
   "name": "python3"
  },
  "language_info": {
   "codemirror_mode": {
    "name": "ipython",
    "version": 3
   },
   "file_extension": ".py",
   "mimetype": "text/x-python",
   "name": "python",
   "nbconvert_exporter": "python",
   "pygments_lexer": "ipython3",
   "version": "3.9.7"
  }
 },
 "nbformat": 4,
 "nbformat_minor": 5
}
