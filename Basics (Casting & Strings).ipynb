{
 "cells": [
  {
   "cell_type": "markdown",
   "id": "c9e172e4",
   "metadata": {},
   "source": [
    "# Specify a variable type\n"
   ]
  },
  {
   "cell_type": "code",
   "execution_count": null,
   "id": "6b92fb49",
   "metadata": {},
   "outputs": [],
   "source": [
    "# used when you want to specify a type on to a variable. this is known as casting\n",
    "# casting in python is done using constructor functions\n",
    "# int() - constructs an integer number from integer literal, a float literal (by removing all decimals), or a string literal (represents whole number)\n",
    "# float() - constructs a float number from integer literal, a float literal or string literal (providing the string represents a float or an integer)\n",
    "# str() - constructs a string from a wide variety of data types, including strings, integer literals and float literals"
   ]
  },
  {
   "cell_type": "code",
   "execution_count": 2,
   "id": "8a483b37",
   "metadata": {},
   "outputs": [
    {
     "name": "stdout",
     "output_type": "stream",
     "text": [
      "1\n",
      "2\n",
      "3\n"
     ]
    }
   ],
   "source": [
    "# Integers\n",
    "x = int(1)  # x will be 1\n",
    "y = int(2.8)  # y will be 2\n",
    "z = int(\"3\")  # z will be 3\n",
    "print(x)\n",
    "print(y)\n",
    "print(z)"
   ]
  },
  {
   "cell_type": "code",
   "execution_count": 3,
   "id": "8d3ef7bb",
   "metadata": {},
   "outputs": [
    {
     "name": "stdout",
     "output_type": "stream",
     "text": [
      "1.0\n",
      "2.8\n",
      "3.0\n",
      "4.2\n"
     ]
    }
   ],
   "source": [
    "# Floats\n",
    "x = float(1)  # x will be 1.0\n",
    "y = float(2.8)  # y will be 2.8\n",
    "z = float(\"3\")  # z will be 3.0\n",
    "w = float(\"4.2\")  # w will be 4.2\n",
    "print(x)\n",
    "print(y)\n",
    "print(z)\n",
    "print(w)"
   ]
  },
  {
   "cell_type": "code",
   "execution_count": 4,
   "id": "6f85f63a",
   "metadata": {},
   "outputs": [
    {
     "name": "stdout",
     "output_type": "stream",
     "text": [
      "s1\n",
      "2\n",
      "3.0\n"
     ]
    }
   ],
   "source": [
    "# strings\n",
    "x = str(\"s1\")   # x will be 's1'\n",
    "y = str(2)   # y will be '2'\n",
    "z = str(3.0)  # z will be '3.0'\n",
    "print(x)\n",
    "print(y)\n",
    "print(z)"
   ]
  },
  {
   "cell_type": "markdown",
   "id": "fe223311",
   "metadata": {},
   "source": [
    "# Python Strings"
   ]
  },
  {
   "cell_type": "code",
   "execution_count": 7,
   "id": "69ed950e",
   "metadata": {},
   "outputs": [],
   "source": [
    "# Strings in python are surrounded by either single quotation marks, or double quotation marks.\n",
    "\n",
    "# 'hello' is the same as \"hello\".\n",
    "\n",
    "# You can display a string literal with the print() function"
   ]
  },
  {
   "cell_type": "code",
   "execution_count": 8,
   "id": "21654951",
   "metadata": {},
   "outputs": [
    {
     "name": "stdout",
     "output_type": "stream",
     "text": [
      "Hello\n",
      "Hello\n"
     ]
    }
   ],
   "source": [
    "print('Hello')\n",
    "print(\"Hello\")"
   ]
  },
  {
   "cell_type": "markdown",
   "id": "6044b236",
   "metadata": {},
   "source": [
    "### Assign string to a variable"
   ]
  },
  {
   "cell_type": "code",
   "execution_count": 10,
   "id": "3ba5dad5",
   "metadata": {},
   "outputs": [
    {
     "name": "stdout",
     "output_type": "stream",
     "text": [
      "Hello\n"
     ]
    }
   ],
   "source": [
    "# Assigning a string to a variable is done with the variable name followed by an equal sign and the string\n",
    "a = \"Hello\"\n",
    "print(a)"
   ]
  },
  {
   "cell_type": "markdown",
   "id": "aee29052",
   "metadata": {},
   "source": [
    "### Multiline Strings"
   ]
  },
  {
   "cell_type": "code",
   "execution_count": 12,
   "id": "f6cad31b",
   "metadata": {},
   "outputs": [
    {
     "name": "stdout",
     "output_type": "stream",
     "text": [
      "Lorem ipsum dolor sit amet,\n",
      "consectetur adipiscing elit,\n",
      "sed do eiusmod tempor incididunt\n",
      "ut labore et dolore magna aliqua.\n"
     ]
    }
   ],
   "source": [
    "# You can assign a multiline string to a variable by using three quotes\n",
    "# three double quotes\n",
    "a = \"\"\"Lorem ipsum dolor sit amet,\n",
    "consectetur adipiscing elit,\n",
    "sed do eiusmod tempor incididunt\n",
    "ut labore et dolore magna aliqua.\"\"\"\n",
    "print(a)"
   ]
  },
  {
   "cell_type": "code",
   "execution_count": 13,
   "id": "321d2e34",
   "metadata": {},
   "outputs": [
    {
     "name": "stdout",
     "output_type": "stream",
     "text": [
      "Lorem ipsum dolor sit amet,\n",
      "consectetur adipiscing elit,\n",
      "sed do eiusmod tempor incididunt\n",
      "ut labore et dolore magna aliqua.\n"
     ]
    }
   ],
   "source": [
    "# three single quotes\n",
    "a = '''Lorem ipsum dolor sit amet,\n",
    "consectetur adipiscing elit,\n",
    "sed do eiusmod tempor incididunt\n",
    "ut labore et dolore magna aliqua.'''\n",
    "print(a)"
   ]
  },
  {
   "cell_type": "markdown",
   "id": "96de5c06",
   "metadata": {},
   "source": [
    "### Strings are Arrays"
   ]
  },
  {
   "cell_type": "code",
   "execution_count": 16,
   "id": "c02dd7b3",
   "metadata": {},
   "outputs": [],
   "source": [
    "# Python does not have a character data type, a single character is simply a string with a length of 1.\n",
    "\n",
    "# Square brackets can be used to access elements of the string."
   ]
  },
  {
   "cell_type": "code",
   "execution_count": 17,
   "id": "d60a59ec",
   "metadata": {},
   "outputs": [
    {
     "name": "stdout",
     "output_type": "stream",
     "text": [
      "e\n"
     ]
    }
   ],
   "source": [
    "# Get the character at position 1 (remember that the first character has the position 0)\n",
    "a = \"Hello, World!\"\n",
    "print(a[1])"
   ]
  },
  {
   "cell_type": "markdown",
   "id": "81c23e3c",
   "metadata": {},
   "source": [
    "### Looping through a string"
   ]
  },
  {
   "cell_type": "code",
   "execution_count": 19,
   "id": "23ddd54a",
   "metadata": {},
   "outputs": [
    {
     "name": "stdout",
     "output_type": "stream",
     "text": [
      "b\n",
      "a\n",
      "n\n",
      "a\n",
      "n\n",
      "a\n"
     ]
    }
   ],
   "source": [
    "# Since strings are arrays, we can loop through the characters in a string, with a for loop\n",
    "# Loop through the letters in the word \"banana\"\n",
    "for x in \"banana\":\n",
    "    print(x)"
   ]
  },
  {
   "cell_type": "markdown",
   "id": "16794732",
   "metadata": {},
   "source": [
    "### String Length"
   ]
  },
  {
   "cell_type": "code",
   "execution_count": 21,
   "id": "b27411d6",
   "metadata": {},
   "outputs": [
    {
     "name": "stdout",
     "output_type": "stream",
     "text": [
      "12\n"
     ]
    }
   ],
   "source": [
    "# To get the length of a string, use the len() function\n",
    "# The len() function returns the length of a string\n",
    "a = \"Hello World!\"\n",
    "print(len(a))"
   ]
  },
  {
   "cell_type": "markdown",
   "id": "0e2ef803",
   "metadata": {},
   "source": [
    "### Check String"
   ]
  },
  {
   "cell_type": "code",
   "execution_count": 23,
   "id": "80763b50",
   "metadata": {},
   "outputs": [
    {
     "name": "stdout",
     "output_type": "stream",
     "text": [
      "True\n"
     ]
    }
   ],
   "source": [
    "# To check if a certain phrase or character is present in a string, we can use the keyword 'in'\n",
    "# Check if \"free\" is present in the following text\n",
    "txt = \"The best things in life are free!\"\n",
    "print(\"free\" in txt)"
   ]
  },
  {
   "cell_type": "code",
   "execution_count": 24,
   "id": "34c67e3a",
   "metadata": {},
   "outputs": [
    {
     "name": "stdout",
     "output_type": "stream",
     "text": [
      "Yes, 'free' is present.\n"
     ]
    }
   ],
   "source": [
    "# use it in an 'if' statement\n",
    "# print only \"if\" free is present\n",
    "txt = \" The best things in life are free!\"\n",
    "if \"free\" in txt :\n",
    "    print(\"Yes, 'free' is present.\")"
   ]
  },
  {
   "cell_type": "markdown",
   "id": "ea21cd94",
   "metadata": {},
   "source": [
    "### Check if NOT"
   ]
  },
  {
   "cell_type": "code",
   "execution_count": 26,
   "id": "32f447ad",
   "metadata": {},
   "outputs": [
    {
     "name": "stdout",
     "output_type": "stream",
     "text": [
      "True\n"
     ]
    }
   ],
   "source": [
    "# To check if a certain phrase or character is NOT present in a string, we can use the keyword not in.\n",
    "# Check if \"expensive\" is NOT present in the following text\n",
    "txt = \"The best things in life are free!\"\n",
    "print(\"expensive\" not in txt)"
   ]
  },
  {
   "cell_type": "code",
   "execution_count": 27,
   "id": "43fc9ccd",
   "metadata": {},
   "outputs": [
    {
     "name": "stdout",
     "output_type": "stream",
     "text": [
      "No, 'expensive' is NOT present.\n"
     ]
    }
   ],
   "source": [
    "# Use it in an if statement\n",
    "# print only if \"expensive\" is NOT present\n",
    "txt = \"The best things in life are free!\"\n",
    "if \"expensive\" not in txt:\n",
    "    print(\"No, 'expensive' is NOT present.\")"
   ]
  },
  {
   "cell_type": "markdown",
   "id": "3c740180",
   "metadata": {},
   "source": [
    "# Python Slicing Strings"
   ]
  },
  {
   "cell_type": "code",
   "execution_count": 2,
   "id": "20176fcb",
   "metadata": {},
   "outputs": [
    {
     "name": "stdout",
     "output_type": "stream",
     "text": [
      "llo\n"
     ]
    }
   ],
   "source": [
    "# Slicing\n",
    "# You can return a range of characters by using the slice syntax. \n",
    "# Specify the start index and the end index, separated by a colon, to return a part of the string.\n",
    "\n",
    "# Get the characters from position 2 to position 5 (not included)\n",
    "b = \"Hello, World!\"\n",
    "print(b[2:5])"
   ]
  },
  {
   "cell_type": "code",
   "execution_count": 3,
   "id": "d95ceb31",
   "metadata": {
    "scrolled": true
   },
   "outputs": [
    {
     "name": "stdout",
     "output_type": "stream",
     "text": [
      "lo\n"
     ]
    }
   ],
   "source": [
    "b = \"Hello, World!\"\n",
    "print(b[3:5])"
   ]
  },
  {
   "cell_type": "code",
   "execution_count": 4,
   "id": "dfb6ece1",
   "metadata": {},
   "outputs": [
    {
     "name": "stdout",
     "output_type": "stream",
     "text": [
      "Hello, World\n"
     ]
    }
   ],
   "source": [
    "b = \"Hello, World!\"\n",
    "print(b[0:12])"
   ]
  },
  {
   "cell_type": "code",
   "execution_count": 5,
   "id": "24d58364",
   "metadata": {},
   "outputs": [
    {
     "name": "stdout",
     "output_type": "stream",
     "text": [
      "Hello\n"
     ]
    }
   ],
   "source": [
    "# Slice from the start\n",
    "# By leaving out the start index, the range will start at the first character\n",
    "b = \"Hello, World!\"\n",
    "print(b[:5])"
   ]
  },
  {
   "cell_type": "code",
   "execution_count": 7,
   "id": "dc0d6c15",
   "metadata": {},
   "outputs": [
    {
     "name": "stdout",
     "output_type": "stream",
     "text": [
      "H\n"
     ]
    }
   ],
   "source": [
    "b = \"Hello, World!\"\n",
    "print(b[:1])"
   ]
  },
  {
   "cell_type": "code",
   "execution_count": 8,
   "id": "8de05e8b",
   "metadata": {},
   "outputs": [
    {
     "name": "stdout",
     "output_type": "stream",
     "text": [
      "llo, World!\n"
     ]
    }
   ],
   "source": [
    "# Slice to the end\n",
    "# By leaving out the end index, the range will go to the end\n",
    "b = \"Hello, World!\"\n",
    "print(b[2:])"
   ]
  },
  {
   "cell_type": "code",
   "execution_count": 10,
   "id": "aba0aae0",
   "metadata": {},
   "outputs": [
    {
     "name": "stdout",
     "output_type": "stream",
     "text": [
      "orl\n"
     ]
    }
   ],
   "source": [
    "# Negative Indexing\n",
    "# Use negative indexes to start the slice from the end of the string\n",
    "# Get the characters:\n",
    "# From: \"o\" in \"World!\" (position -5)\n",
    "# To, but not included: \"d\" in \"World!\" (position -2)\n",
    "b = \"Hello, World!\"\n",
    "print(b[-5:-2])\n"
   ]
  },
  {
   "cell_type": "code",
   "execution_count": 12,
   "id": "c7d85185",
   "metadata": {},
   "outputs": [
    {
     "name": "stdout",
     "output_type": "stream",
     "text": [
      "or\n"
     ]
    }
   ],
   "source": [
    "b = \"Hello, World!\"\n",
    "print(b[-5:-3])"
   ]
  },
  {
   "cell_type": "markdown",
   "id": "c8418ed4",
   "metadata": {},
   "source": [
    "# Python Modify Strings"
   ]
  },
  {
   "cell_type": "code",
   "execution_count": 15,
   "id": "e5764599",
   "metadata": {},
   "outputs": [
    {
     "name": "stdout",
     "output_type": "stream",
     "text": [
      "HELLO, WORLD!\n"
     ]
    }
   ],
   "source": [
    "# Upper case \n",
    "# the upper() method returns the string in upper case\n",
    "a = \"Hello, World!\"\n",
    "print(a.upper())"
   ]
  },
  {
   "cell_type": "code",
   "execution_count": 16,
   "id": "e6704822",
   "metadata": {},
   "outputs": [
    {
     "name": "stdout",
     "output_type": "stream",
     "text": [
      "MY NAME IS MALIHA\n"
     ]
    }
   ],
   "source": [
    "b = \"My name is Maliha\"\n",
    "print(b.upper())"
   ]
  },
  {
   "cell_type": "code",
   "execution_count": 17,
   "id": "3d40001f",
   "metadata": {},
   "outputs": [
    {
     "name": "stdout",
     "output_type": "stream",
     "text": [
      "hello, world!\n"
     ]
    }
   ],
   "source": [
    "# Lower case\n",
    "# the lower() method returns the string in lower case\n",
    "a = \"Hello, World!\"\n",
    "print(a.lower())"
   ]
  },
  {
   "cell_type": "code",
   "execution_count": 19,
   "id": "e19cc319",
   "metadata": {},
   "outputs": [
    {
     "name": "stdout",
     "output_type": "stream",
     "text": [
      "Hello, World!\n"
     ]
    }
   ],
   "source": [
    "# Remove Whitespace\n",
    "# Whitespace is the space before and/or after the actual text, and very often you want to remove this space\n",
    "# The strip() method removes any whitespace from the beginning or the end\n",
    "a = \" Hello, World!\"\n",
    "print(a.strip())"
   ]
  },
  {
   "cell_type": "code",
   "execution_count": 20,
   "id": "dbb1d4e2",
   "metadata": {},
   "outputs": [
    {
     "name": "stdout",
     "output_type": "stream",
     "text": [
      "Thank you!\n"
     ]
    }
   ],
   "source": [
    "b = \" Thank you!\"\n",
    "print(b.strip())"
   ]
  },
  {
   "cell_type": "code",
   "execution_count": 21,
   "id": "cd1fd2e5",
   "metadata": {},
   "outputs": [
    {
     "name": "stdout",
     "output_type": "stream",
     "text": [
      "Jello, World!\n"
     ]
    }
   ],
   "source": [
    "# Replace string\n",
    "# The replace() method replaces a string with another string\n",
    "a = \"Hello, World!\"\n",
    "print(a.replace(\"H\", \"J\"))"
   ]
  },
  {
   "cell_type": "code",
   "execution_count": 22,
   "id": "a5667d92",
   "metadata": {},
   "outputs": [
    {
     "name": "stdout",
     "output_type": "stream",
     "text": [
      "Grazie\n"
     ]
    }
   ],
   "source": [
    "b = \"Thank you!\"\n",
    "print(b.replace(\"Thank you!\", \"Grazie\"))"
   ]
  },
  {
   "cell_type": "code",
   "execution_count": 23,
   "id": "c05a7a22",
   "metadata": {},
   "outputs": [
    {
     "name": "stdout",
     "output_type": "stream",
     "text": [
      "['Hello', ' World!']\n"
     ]
    }
   ],
   "source": [
    "# Split string\n",
    "# The split() method returns a list where the text between the specified separator becomes the list items\n",
    "# The split() method splits the string into substrings if it finds instances of the separator\n",
    "a = \"Hello, World!\"\n",
    "print(a.split(\",\"))"
   ]
  },
  {
   "cell_type": "code",
   "execution_count": 24,
   "id": "cfbdca9f",
   "metadata": {},
   "outputs": [
    {
     "name": "stdout",
     "output_type": "stream",
     "text": [
      "['Thank you!']\n"
     ]
    }
   ],
   "source": [
    "b = \"Thank you!\"\n",
    "print(b.split(\",\"))"
   ]
  },
  {
   "cell_type": "code",
   "execution_count": 26,
   "id": "14c3710d",
   "metadata": {},
   "outputs": [
    {
     "name": "stdout",
     "output_type": "stream",
     "text": [
      "HelloWorld!\n"
     ]
    }
   ],
   "source": [
    "# Strings Concatenation\n",
    "# To concatenate, or combine, two strings you can use the + operator\n",
    "# Merge variable a with variable b into variable c\n",
    "a = \"Hello\"\n",
    "b = \"World!\"\n",
    "c = a + b\n",
    "print(c)"
   ]
  },
  {
   "cell_type": "code",
   "execution_count": 27,
   "id": "85555599",
   "metadata": {},
   "outputs": [
    {
     "name": "stdout",
     "output_type": "stream",
     "text": [
      "Hello World!\n"
     ]
    }
   ],
   "source": [
    "# To add a space between them, add a \" \"\n",
    "a = \"Hello\"\n",
    "b = \"World!\"\n",
    "c = a + \" \" + b\n",
    "print(c)"
   ]
  },
  {
   "cell_type": "code",
   "execution_count": 30,
   "id": "eb44ebc9",
   "metadata": {},
   "outputs": [
    {
     "name": "stdout",
     "output_type": "stream",
     "text": [
      "My name is Maliha Wasim, and I am 27\n"
     ]
    }
   ],
   "source": [
    "# String Format\n",
    "# we can combine strings and numbers by using the format() method\n",
    "# The format() method takes the passed arguments, formats them, and places them in the string where the placeholders {} are\n",
    "# Use the format() method to insert numbers into strings\n",
    "age = 27\n",
    "txt = \"My name is Maliha Wasim, and I am {}\"\n",
    "print(txt.format(age))\n"
   ]
  },
  {
   "cell_type": "code",
   "execution_count": 33,
   "id": "f2d484ef",
   "metadata": {},
   "outputs": [
    {
     "name": "stdout",
     "output_type": "stream",
     "text": [
      "I want 3 pieces of item 546 for 35.5 dollars.\n"
     ]
    }
   ],
   "source": [
    "# The format() method takes unlimited number of arguments, and are placed into the respective placeholders\n",
    "quantity = 3\n",
    "itemno = 546\n",
    "price = 35.5\n",
    "myorder = \"I want {} pieces of item {} for {} dollars.\"\n",
    "print(myorder.format(quantity, itemno, price))"
   ]
  },
  {
   "cell_type": "code",
   "execution_count": 35,
   "id": "74370968",
   "metadata": {},
   "outputs": [
    {
     "name": "stdout",
     "output_type": "stream",
     "text": [
      "I want to pay 35.5 dollars for 3 pieces of item 546.\n"
     ]
    }
   ],
   "source": [
    "# You can use index numbers {0} to be sure the arguments are placed in the correct placeholders\n",
    "quantity = 3   # {0}\n",
    "itemno = 546  # {1}\n",
    "price = 35.5  # {2}\n",
    "myorder = \"I want to pay {2} dollars for {0} pieces of item {1}.\"\n",
    "print(myorder.format(quantity, itemno, price))"
   ]
  },
  {
   "cell_type": "code",
   "execution_count": 36,
   "id": "444d3fe2",
   "metadata": {},
   "outputs": [
    {
     "ename": "SyntaxError",
     "evalue": "invalid syntax (Temp/ipykernel_9940/605490529.py, line 7)",
     "output_type": "error",
     "traceback": [
      "\u001b[1;36m  File \u001b[1;32m\"C:\\Users\\malih\\AppData\\Local\\Temp/ipykernel_9940/605490529.py\"\u001b[1;36m, line \u001b[1;32m7\u001b[0m\n\u001b[1;33m    txt = \"We are the so-called \"Vikings\" from the north.\"\u001b[0m\n\u001b[1;37m                                 ^\u001b[0m\n\u001b[1;31mSyntaxError\u001b[0m\u001b[1;31m:\u001b[0m invalid syntax\n"
     ]
    }
   ],
   "source": [
    "# Python escape characters\n",
    "# To insert characters that are illegal in a string, use an escape character.\n",
    "# An escape character is a backslash \\ followed by the character you want to insert\n",
    "# An example of an illegal character is a double quote inside a string that is surrounded by double quotes\n",
    "\n",
    "# You will get an error if you use double quotes inside a string that is surrounded by double quotes\n",
    "txt = \"We are the so-called \"Vikings\" from the north.\"\n"
   ]
  },
  {
   "cell_type": "code",
   "execution_count": 40,
   "id": "36b256b0",
   "metadata": {},
   "outputs": [
    {
     "name": "stdout",
     "output_type": "stream",
     "text": [
      "We are the so-called \"Vikings\" from the north.\n"
     ]
    }
   ],
   "source": [
    "# To fix this problem, use the escape character \\\"\n",
    "# The escape character allows you to use double quotes when you normally would not be allowed\n",
    "txt = \"We are the so-called \\\"Vikings\\\" from the north.\"\n",
    "print(txt)\n"
   ]
  },
  {
   "cell_type": "markdown",
   "id": "2fcb3ca4",
   "metadata": {},
   "source": [
    "# Exercises"
   ]
  },
  {
   "cell_type": "code",
   "execution_count": 43,
   "id": "a97bcac1",
   "metadata": {},
   "outputs": [
    {
     "name": "stdout",
     "output_type": "stream",
     "text": [
      "11\n"
     ]
    }
   ],
   "source": [
    "# Use the \"len\" method to print the length of the string\n",
    "x = \"Hello World\"\n",
    "print(len(x))\n"
   ]
  },
  {
   "cell_type": "code",
   "execution_count": 49,
   "id": "4acd454c",
   "metadata": {},
   "outputs": [
    {
     "name": "stdout",
     "output_type": "stream",
     "text": [
      "H\n"
     ]
    }
   ],
   "source": [
    "# Get the first character of the string \"txt\"\n",
    "txt = \"Hello World\"\n",
    "x = txt[0]\n",
    "print(x)"
   ]
  },
  {
   "cell_type": "code",
   "execution_count": 48,
   "id": "2b5dff96",
   "metadata": {},
   "outputs": [
    {
     "name": "stdout",
     "output_type": "stream",
     "text": [
      "llo\n"
     ]
    }
   ],
   "source": [
    "# Get the characters from index 2 to index 4 (llo)\n",
    "txt = \"Hello World\"\n",
    "x = txt[2:5]\n",
    "print(x)"
   ]
  },
  {
   "cell_type": "code",
   "execution_count": 50,
   "id": "3411cd40",
   "metadata": {},
   "outputs": [
    {
     "name": "stdout",
     "output_type": "stream",
     "text": [
      "Hello World\n"
     ]
    }
   ],
   "source": [
    "# Return the string without any \"whitespace\" at the beginning or the end\n",
    "txt = \"Hello World\"\n",
    "x = txt.strip()\n",
    "print(x)"
   ]
  },
  {
   "cell_type": "code",
   "execution_count": 52,
   "id": "732473f0",
   "metadata": {},
   "outputs": [
    {
     "name": "stdout",
     "output_type": "stream",
     "text": [
      "HELLO WORLD\n"
     ]
    }
   ],
   "source": [
    "# Convert the value of \"txt\" to upper case\n",
    "txt = \"Hello World\"\n",
    "txt = txt.upper()\n",
    "print(txt)"
   ]
  },
  {
   "cell_type": "code",
   "execution_count": 53,
   "id": "7be28073",
   "metadata": {},
   "outputs": [
    {
     "name": "stdout",
     "output_type": "stream",
     "text": [
      "hello world\n"
     ]
    }
   ],
   "source": [
    "# Convert the value of \"txt\" to lower case\n",
    "txt = \"Hello World\"\n",
    "txt = txt.lower()\n",
    "print(txt)\n",
    "\n"
   ]
  },
  {
   "cell_type": "code",
   "execution_count": 54,
   "id": "a1ccb15a",
   "metadata": {},
   "outputs": [
    {
     "name": "stdout",
     "output_type": "stream",
     "text": [
      "Jello World\n"
     ]
    }
   ],
   "source": [
    "# Replace the character H with a J\n",
    "txt = \"Hello World\"\n",
    "txt = txt.replace(\"H\", \"J\")\n",
    "print(txt)"
   ]
  },
  {
   "cell_type": "code",
   "execution_count": null,
   "id": "af77134c",
   "metadata": {},
   "outputs": [],
   "source": []
  }
 ],
 "metadata": {
  "kernelspec": {
   "display_name": "Python 3 (ipykernel)",
   "language": "python",
   "name": "python3"
  },
  "language_info": {
   "codemirror_mode": {
    "name": "ipython",
    "version": 3
   },
   "file_extension": ".py",
   "mimetype": "text/x-python",
   "name": "python",
   "nbconvert_exporter": "python",
   "pygments_lexer": "ipython3",
   "version": "3.9.7"
  }
 },
 "nbformat": 4,
 "nbformat_minor": 5
}
