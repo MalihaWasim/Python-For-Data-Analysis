{
 "cells": [
  {
   "cell_type": "markdown",
   "id": "0a498307",
   "metadata": {},
   "source": [
    "# Python Tuples"
   ]
  },
  {
   "cell_type": "code",
   "execution_count": 2,
   "id": "5a4b2e5a",
   "metadata": {},
   "outputs": [],
   "source": [
    "# tuples are used to store multiple items in a single variable\n",
    "# A tuple is a collection which is ordered and unchangeable\n",
    "# Tuples are written with round brackets"
   ]
  },
  {
   "cell_type": "code",
   "execution_count": 3,
   "id": "ae1053f2",
   "metadata": {},
   "outputs": [
    {
     "name": "stdout",
     "output_type": "stream",
     "text": [
      "('apple', 'banana', 'cherry')\n"
     ]
    }
   ],
   "source": [
    "# create a tuple\n",
    "thistuple = (\"apple\", \"banana\", \"cherry\")\n",
    "print(thistuple)"
   ]
  },
  {
   "cell_type": "markdown",
   "id": "ad10ab33",
   "metadata": {},
   "source": [
    "### Tuple Items"
   ]
  },
  {
   "cell_type": "code",
   "execution_count": 5,
   "id": "c38f25f7",
   "metadata": {},
   "outputs": [],
   "source": [
    "# Tuple items are ordered, unchangeable, and allow duplicate values\n",
    "# Tuple items are indexed, the first item has index [0], the second item has index [1] etc."
   ]
  },
  {
   "cell_type": "markdown",
   "id": "8e25f44e",
   "metadata": {},
   "source": [
    "### Ordered"
   ]
  },
  {
   "cell_type": "code",
   "execution_count": 7,
   "id": "0ea52b54",
   "metadata": {},
   "outputs": [],
   "source": [
    "# When we say that tuples are ordered, \n",
    "# it means that the items have a defined order, \n",
    "# and that order will not change"
   ]
  },
  {
   "cell_type": "markdown",
   "id": "9ba3327e",
   "metadata": {},
   "source": [
    "### Unchangeable"
   ]
  },
  {
   "cell_type": "code",
   "execution_count": 9,
   "id": "1c6eada4",
   "metadata": {},
   "outputs": [],
   "source": [
    "# Tuples are unchangeable, meaning that we cannot change, \n",
    "# add or remove items after the tuple has been created"
   ]
  },
  {
   "cell_type": "markdown",
   "id": "f3cfbef3",
   "metadata": {},
   "source": [
    "### Allow Duplicates"
   ]
  },
  {
   "cell_type": "code",
   "execution_count": 11,
   "id": "cabc9091",
   "metadata": {},
   "outputs": [],
   "source": [
    "# Since tuples are indexed, they can have items with the same value"
   ]
  },
  {
   "cell_type": "code",
   "execution_count": 13,
   "id": "fb05e45b",
   "metadata": {},
   "outputs": [
    {
     "name": "stdout",
     "output_type": "stream",
     "text": [
      "('apple', 'banana', 'cherry', 'apple', 'banana')\n"
     ]
    }
   ],
   "source": [
    "# tuples allow duplicate values\n",
    "thistuple = (\"apple\", \"banana\", \"cherry\", \"apple\", \"banana\")\n",
    "print(thistuple)"
   ]
  },
  {
   "cell_type": "markdown",
   "id": "3b36812e",
   "metadata": {},
   "source": [
    "### Tuple Length"
   ]
  },
  {
   "cell_type": "code",
   "execution_count": 17,
   "id": "1b840970",
   "metadata": {},
   "outputs": [
    {
     "name": "stdout",
     "output_type": "stream",
     "text": [
      "3\n"
     ]
    }
   ],
   "source": [
    "# To determine how many items a tuple has, use the len() function\n",
    "# Print the number of items in the tuple\n",
    "thistuple = (\"apple\", \"banana\", \"cherry\")\n",
    "print(len(thistuple))"
   ]
  },
  {
   "cell_type": "markdown",
   "id": "3795b6b7",
   "metadata": {},
   "source": [
    "### Create Tuple with one item"
   ]
  },
  {
   "cell_type": "code",
   "execution_count": 20,
   "id": "86ab7e9c",
   "metadata": {},
   "outputs": [
    {
     "name": "stdout",
     "output_type": "stream",
     "text": [
      "<class 'tuple'>\n"
     ]
    }
   ],
   "source": [
    "# To create a tuple with only one item, you have to add a comma after the item, \n",
    "# otherwise Python will not recognize it as a tuple\n",
    "# One item tuple, remember the comma\n",
    "thistuple = (\"apple\",)\n",
    "print(type(thistuple))"
   ]
  },
  {
   "cell_type": "code",
   "execution_count": 21,
   "id": "2f99c550",
   "metadata": {},
   "outputs": [
    {
     "name": "stdout",
     "output_type": "stream",
     "text": [
      "<class 'str'>\n"
     ]
    }
   ],
   "source": [
    "thistuple = (\"apple\")\n",
    "print(type(thistuple))"
   ]
  },
  {
   "cell_type": "markdown",
   "id": "b3127ada",
   "metadata": {},
   "source": [
    "### Tuple Items - Data Types"
   ]
  },
  {
   "cell_type": "code",
   "execution_count": 23,
   "id": "d86bded6",
   "metadata": {},
   "outputs": [],
   "source": [
    "# Tuple items can be of any data type\n",
    "# String, int and boolean data types\n",
    "tuple1 = (\"apple\", \"banana\", \"cherry\")\n",
    "tuple2 = (1, 4, 5, 7)\n",
    "tuple3 = (True, False, False)"
   ]
  },
  {
   "cell_type": "code",
   "execution_count": 24,
   "id": "282d3c86",
   "metadata": {},
   "outputs": [
    {
     "name": "stdout",
     "output_type": "stream",
     "text": [
      "('apple', 'banana', 'cherry')\n",
      "(1, 4, 5, 7)\n",
      "(True, False, False)\n"
     ]
    }
   ],
   "source": [
    "print(tuple1)\n",
    "print(tuple2)\n",
    "print(tuple3)"
   ]
  },
  {
   "cell_type": "code",
   "execution_count": 25,
   "id": "edb6cd54",
   "metadata": {},
   "outputs": [
    {
     "name": "stdout",
     "output_type": "stream",
     "text": [
      "('abc', 24, True, 37, 'male')\n"
     ]
    }
   ],
   "source": [
    "# A tuple can contain different data types\n",
    "# A tuple with strings, integers and boolean values\n",
    "tuple1 = (\"abc\", 24, True, 37, \"male\")\n",
    "print(tuple1)"
   ]
  },
  {
   "cell_type": "markdown",
   "id": "b7257271",
   "metadata": {},
   "source": [
    "### type()"
   ]
  },
  {
   "cell_type": "code",
   "execution_count": 27,
   "id": "c9d14397",
   "metadata": {},
   "outputs": [
    {
     "name": "stdout",
     "output_type": "stream",
     "text": [
      "<class 'tuple'>\n"
     ]
    }
   ],
   "source": [
    "# From Python's perspective, tuples are defined as objects with the data type 'tuple'\n",
    "# What is the data type of a tuple?\n",
    "mytuple = (\"apple\", \"banana\", \"cherry\")\n",
    "print(type(mytuple))"
   ]
  },
  {
   "cell_type": "markdown",
   "id": "5efc4392",
   "metadata": {},
   "source": [
    "### The tuple() Constructor"
   ]
  },
  {
   "cell_type": "code",
   "execution_count": 29,
   "id": "a0358bf4",
   "metadata": {},
   "outputs": [
    {
     "name": "stdout",
     "output_type": "stream",
     "text": [
      "('apple', 'banana', 'cherry')\n"
     ]
    }
   ],
   "source": [
    "# It is also possible to use the tuple() constructor to make a tuple\n",
    "# Using the tuple() method to make a tuple\n",
    "thistuple = tuple((\"apple\", \"banana\", \"cherry\"))\n",
    "print(thistuple)"
   ]
  },
  {
   "cell_type": "markdown",
   "id": "d7d92df7",
   "metadata": {},
   "source": [
    "### Access Tuple Items"
   ]
  },
  {
   "cell_type": "code",
   "execution_count": 32,
   "id": "9e94491c",
   "metadata": {},
   "outputs": [
    {
     "name": "stdout",
     "output_type": "stream",
     "text": [
      "banana\n"
     ]
    }
   ],
   "source": [
    "# You can access tuple items by referring to the index number, inside square brackets\n",
    "# Print the second item in the tuple\n",
    "thistuple = (\"apple\", \"banana\", \"cherry\")\n",
    "print(thistuple[1])"
   ]
  },
  {
   "cell_type": "markdown",
   "id": "038d1545",
   "metadata": {},
   "source": [
    "### Negative Indexing"
   ]
  },
  {
   "cell_type": "code",
   "execution_count": 34,
   "id": "0d9ea730",
   "metadata": {},
   "outputs": [
    {
     "name": "stdout",
     "output_type": "stream",
     "text": [
      "cherry\n"
     ]
    }
   ],
   "source": [
    "# Negative indexing means start from the end\n",
    "# -1 refers to the last item, -2 refers to the second last item etc\n",
    "# Print the last item of the tuple\n",
    "thistuple = (\"apple\", \"banana\", \"cherry\")\n",
    "print(thistuple[-1])"
   ]
  },
  {
   "cell_type": "markdown",
   "id": "b481ecbb",
   "metadata": {},
   "source": [
    "### Range of Indexes"
   ]
  },
  {
   "cell_type": "code",
   "execution_count": 36,
   "id": "5a014594",
   "metadata": {},
   "outputs": [
    {
     "name": "stdout",
     "output_type": "stream",
     "text": [
      "('cherry', 'orange', 'kiwi')\n"
     ]
    }
   ],
   "source": [
    "# You can specify a range of indexes by specifying where to start and where to end the range\n",
    "# When specifying a range, the return value will be a new tuple with the specified items\n",
    "thistuple = (\"apple\", \"banana\", \"cherry\", \"orange\", \"kiwi\", \"melon\", \"mango\")\n",
    "# Return the third, fourth, and fifth item\n",
    "print(thistuple[2:5])"
   ]
  },
  {
   "cell_type": "code",
   "execution_count": 37,
   "id": "171d1243",
   "metadata": {},
   "outputs": [
    {
     "name": "stdout",
     "output_type": "stream",
     "text": [
      "('apple', 'banana', 'cherry', 'orange')\n"
     ]
    }
   ],
   "source": [
    "# This example returns the items from the beginning to, but NOT included, \"kiwi\"\n",
    "thistuple = (\"apple\", \"banana\", \"cherry\", \"orange\", \"kiwi\", \"melon\", \"mango\")\n",
    "print(thistuple[:4])"
   ]
  },
  {
   "cell_type": "code",
   "execution_count": 38,
   "id": "b04412d3",
   "metadata": {},
   "outputs": [
    {
     "name": "stdout",
     "output_type": "stream",
     "text": [
      "('cherry', 'orange', 'kiwi', 'melon', 'mango')\n"
     ]
    }
   ],
   "source": [
    "# By leaving out the end value, the range will go on to the end of the list\n",
    "# This example returns the items from \"cherry\" and to the end\n",
    "thistuple = (\"apple\", \"banana\", \"cherry\", \"orange\", \"kiwi\", \"melon\", \"mango\")\n",
    "print(thistuple[2:])"
   ]
  },
  {
   "cell_type": "markdown",
   "id": "5445913b",
   "metadata": {},
   "source": [
    "### Range of Negative Indexes"
   ]
  },
  {
   "cell_type": "code",
   "execution_count": 40,
   "id": "e40c1445",
   "metadata": {},
   "outputs": [
    {
     "name": "stdout",
     "output_type": "stream",
     "text": [
      "('orange', 'kiwi', 'melon')\n"
     ]
    }
   ],
   "source": [
    "# Specify negative indexes if you want to start the search from the end of the tuple\n",
    "# This example returns the items from index -4 (included) to index -1 (excluded)\n",
    "thistuple = (\"apple\", \"banana\", \"cherry\", \"orange\", \"kiwi\", \"melon\", \"mango\")\n",
    "print(thistuple[-4:-1])"
   ]
  },
  {
   "cell_type": "markdown",
   "id": "2678fa69",
   "metadata": {},
   "source": [
    "### Check if item exists"
   ]
  },
  {
   "cell_type": "code",
   "execution_count": 43,
   "id": "63489296",
   "metadata": {},
   "outputs": [
    {
     "name": "stdout",
     "output_type": "stream",
     "text": [
      "Yes, 'apple' is in the fruits tuple\n"
     ]
    }
   ],
   "source": [
    "# to determine if a specified item is present in a tuple use the in keyword\n",
    "# Check if \"apple\" is present in the tuple:\n",
    "thistuple = (\"apple\", \"banana\", \"cherry\")\n",
    "if \"apple\" in thistuple:\n",
    "    print(\"Yes, 'apple' is in the fruits tuple\")"
   ]
  },
  {
   "cell_type": "markdown",
   "id": "c45ad8bd",
   "metadata": {},
   "source": [
    "# Python Update Tuples"
   ]
  },
  {
   "cell_type": "code",
   "execution_count": 2,
   "id": "34a91a1e",
   "metadata": {},
   "outputs": [],
   "source": [
    "# Tuples are unchangeable, meaning that you cannot change, add, or remove items \n",
    "# once the tuple is created\n",
    "# But there are some workarounds"
   ]
  },
  {
   "cell_type": "markdown",
   "id": "0e01fde2",
   "metadata": {},
   "source": [
    "### Change Tuple Values"
   ]
  },
  {
   "cell_type": "code",
   "execution_count": 4,
   "id": "088e2ece",
   "metadata": {},
   "outputs": [],
   "source": [
    "# Once a tuple is created, you cannot change its values\n",
    "# Tuples are unchangeable, or immutable as it also is called\n",
    "# But You can convert the tuple into a list, change the list, \n",
    "# and convert the list back into a tuple"
   ]
  },
  {
   "cell_type": "code",
   "execution_count": 5,
   "id": "0f3eca8f",
   "metadata": {},
   "outputs": [
    {
     "name": "stdout",
     "output_type": "stream",
     "text": [
      "('apple', 'kiwi', 'cherry')\n"
     ]
    }
   ],
   "source": [
    "# Example - Convert the tuple into a list to be able to change it\n",
    "x = (\"apple\", \"banana\", \"cherry\")\n",
    "y = list(x)\n",
    "y[1] = \"kiwi\"\n",
    "x = tuple(y)\n",
    "print(x)"
   ]
  },
  {
   "cell_type": "code",
   "execution_count": 6,
   "id": "b199e897",
   "metadata": {},
   "outputs": [
    {
     "name": "stdout",
     "output_type": "stream",
     "text": [
      "('onion', 'potato', 'lemon')\n"
     ]
    }
   ],
   "source": [
    "x = (\"onion\", \"potato\", \"chillies\")\n",
    "y = list(x)\n",
    "y[2] = \"lemon\"\n",
    "x = tuple(y)\n",
    "print(x)"
   ]
  },
  {
   "cell_type": "markdown",
   "id": "b9485601",
   "metadata": {},
   "source": [
    "### Add Items"
   ]
  },
  {
   "cell_type": "code",
   "execution_count": 8,
   "id": "f8193ff6",
   "metadata": {},
   "outputs": [],
   "source": [
    "# Since tuples are immutable, they do not have a build-in append() method\n",
    "# but there are other ways to add items to a tuple"
   ]
  },
  {
   "cell_type": "markdown",
   "id": "b2761d42",
   "metadata": {},
   "source": [
    "### 1. Convert into a list"
   ]
  },
  {
   "cell_type": "code",
   "execution_count": 10,
   "id": "cf1cb7e2",
   "metadata": {},
   "outputs": [
    {
     "name": "stdout",
     "output_type": "stream",
     "text": [
      "('apple', 'banana', 'cherry', 'orange')\n"
     ]
    }
   ],
   "source": [
    "# Just like the workaround for changing a tuple\n",
    "# you can convert it into a list, add your item(s), and convert it back into a tuple\n",
    "# Example - Convert the tuple into a list, add \"orange\", \n",
    "# and convert it back into a tuple\n",
    "thistuple = (\"apple\", \"banana\", \"cherry\")\n",
    "y = list(thistuple)\n",
    "y.append(\"orange\")\n",
    "thistuple = tuple(y)\n",
    "print(thistuple)"
   ]
  },
  {
   "cell_type": "markdown",
   "id": "fa66c3c0",
   "metadata": {},
   "source": [
    "### Add Tuple to a Tuple"
   ]
  },
  {
   "cell_type": "code",
   "execution_count": 12,
   "id": "949c26c6",
   "metadata": {},
   "outputs": [],
   "source": [
    "# You are allowed to add tuples to tuples,\n",
    "# so if you want to add one item, (or many)\n",
    "# create a new tuple with the item(s), and add it to the existing tuple"
   ]
  },
  {
   "cell_type": "code",
   "execution_count": 13,
   "id": "317d6e5f",
   "metadata": {},
   "outputs": [
    {
     "name": "stdout",
     "output_type": "stream",
     "text": [
      "('apple', 'banana', 'cherry', 'orange')\n"
     ]
    }
   ],
   "source": [
    "# Example - Create a new tuple with the value \"orange\", and add that tuple\n",
    "thistuple = (\"apple\", \"banana\", \"cherry\")\n",
    "y = (\"orange\",)\n",
    "thistuple += y\n",
    "print(thistuple)"
   ]
  },
  {
   "cell_type": "code",
   "execution_count": 14,
   "id": "6d1f5dab",
   "metadata": {},
   "outputs": [
    {
     "name": "stdout",
     "output_type": "stream",
     "text": [
      "('banana', 'cherry')\n"
     ]
    }
   ],
   "source": [
    "# Example - Convert the tuple into a list, remove \"apple\", and convert it back into a tuple\n",
    "thistuple = (\"apple\", \"banana\", \"cherry\")\n",
    "y = list(thistuple)\n",
    "y.remove(\"apple\")\n",
    "thistuple = tuple(y)\n",
    "print(thistuple)"
   ]
  },
  {
   "cell_type": "code",
   "execution_count": 18,
   "id": "0f279a83",
   "metadata": {
    "scrolled": true
   },
   "outputs": [
    {
     "ename": "NameError",
     "evalue": "name 'thistuple' is not defined",
     "output_type": "error",
     "traceback": [
      "\u001b[1;31m---------------------------------------------------------------------------\u001b[0m",
      "\u001b[1;31mNameError\u001b[0m                                 Traceback (most recent call last)",
      "\u001b[1;32m~\\AppData\\Local\\Temp/ipykernel_12212/2783453374.py\u001b[0m in \u001b[0;36m<module>\u001b[1;34m\u001b[0m\n\u001b[0;32m      3\u001b[0m \u001b[0mthistuple\u001b[0m \u001b[1;33m=\u001b[0m \u001b[1;33m(\u001b[0m\u001b[1;34m\"apple\"\u001b[0m\u001b[1;33m,\u001b[0m \u001b[1;34m\"banana\"\u001b[0m\u001b[1;33m,\u001b[0m \u001b[1;34m\"cherry\"\u001b[0m\u001b[1;33m)\u001b[0m\u001b[1;33m\u001b[0m\u001b[1;33m\u001b[0m\u001b[0m\n\u001b[0;32m      4\u001b[0m \u001b[1;32mdel\u001b[0m \u001b[0mthistuple\u001b[0m\u001b[1;33m\u001b[0m\u001b[1;33m\u001b[0m\u001b[0m\n\u001b[1;32m----> 5\u001b[1;33m \u001b[0mprint\u001b[0m\u001b[1;33m(\u001b[0m\u001b[0mthistuple\u001b[0m\u001b[1;33m)\u001b[0m \u001b[1;31m# this will raise an error because the tuple no longer exists\u001b[0m\u001b[1;33m\u001b[0m\u001b[1;33m\u001b[0m\u001b[0m\n\u001b[0m",
      "\u001b[1;31mNameError\u001b[0m: name 'thistuple' is not defined"
     ]
    }
   ],
   "source": [
    "# Or delete the tuple completely\n",
    "# The del keyword can delete the tuple completely\n",
    "thistuple = (\"apple\", \"banana\", \"cherry\")\n",
    "del thistuple\n",
    "print(thistuple) # this will raise an error because the tuple no longer exists"
   ]
  },
  {
   "cell_type": "markdown",
   "id": "e335afc5",
   "metadata": {},
   "source": [
    "# Python - Unpack Tuples"
   ]
  },
  {
   "cell_type": "markdown",
   "id": "461ddbf3",
   "metadata": {},
   "source": [
    "### Unpacking a Tuple"
   ]
  },
  {
   "cell_type": "code",
   "execution_count": 21,
   "id": "089ec159",
   "metadata": {},
   "outputs": [],
   "source": [
    "# When we create a tuple, we normally assign values to it. \n",
    "# This is called \"packing\" a tuple\n",
    "# Example - Packing a tuple\n",
    "fruits = (\"apple\", \"banana\", \"cherry\")"
   ]
  },
  {
   "cell_type": "code",
   "execution_count": 22,
   "id": "a19eae5e",
   "metadata": {},
   "outputs": [
    {
     "name": "stdout",
     "output_type": "stream",
     "text": [
      "apple\n",
      "banana\n",
      "cherry\n"
     ]
    }
   ],
   "source": [
    "# But, in Python, we are also allowed to extract the values back into variables. \n",
    "# This is called \"unpacking\"\n",
    "# Example - Unpacking a tuple\n",
    "fruits = (\"apple\", \"banana\", \"cherry\")\n",
    "(green, yellow, red) = fruits\n",
    "print(green)\n",
    "print(yellow)\n",
    "print(red)"
   ]
  },
  {
   "cell_type": "markdown",
   "id": "ef581838",
   "metadata": {},
   "source": [
    "### Using Asterisk * "
   ]
  },
  {
   "cell_type": "code",
   "execution_count": 24,
   "id": "eaf561dd",
   "metadata": {},
   "outputs": [
    {
     "name": "stdout",
     "output_type": "stream",
     "text": [
      "apple\n",
      "banana\n",
      "['cherry', 'strawberry', 'raspberry']\n"
     ]
    }
   ],
   "source": [
    "# If the number of variables is less than the number of values, \n",
    "# you can add an * to the variable name and the values will be assigned to the variable as a list\n",
    "# Example - Assign the rest of the values as a list called \"red\"\n",
    "fruits = (\"apple\", \"banana\", \"cherry\", \"strawberry\", \"raspberry\")\n",
    "(green, yellow, *red) = fruits\n",
    "print(green)\n",
    "print(yellow)\n",
    "print(red)"
   ]
  },
  {
   "cell_type": "code",
   "execution_count": 25,
   "id": "a041aa78",
   "metadata": {},
   "outputs": [
    {
     "name": "stdout",
     "output_type": "stream",
     "text": [
      "apple\n",
      "['mango', 'papaya', 'pineapple']\n",
      "cherry\n"
     ]
    }
   ],
   "source": [
    "# If the asterisk is added to another variable name than the last\n",
    "# Python will assign values to the variable until the number of values left matches the number of variables left\n",
    "# Example - Add a list of values the \"tropic\" variable\n",
    "fruits = (\"apple\", \"mango\", \"papaya\", \"pineapple\", \"cherry\")\n",
    "(green, *tropic, red) = fruits\n",
    "print(green)\n",
    "print(tropic)\n",
    "print(red)"
   ]
  },
  {
   "cell_type": "markdown",
   "id": "85060687",
   "metadata": {},
   "source": [
    "# Python - Loop Tuples"
   ]
  },
  {
   "cell_type": "markdown",
   "id": "9eaac094",
   "metadata": {},
   "source": [
    "### Loop Through a Tuple"
   ]
  },
  {
   "cell_type": "code",
   "execution_count": 3,
   "id": "f005144f",
   "metadata": {},
   "outputs": [
    {
     "name": "stdout",
     "output_type": "stream",
     "text": [
      "apple\n",
      "banana\n",
      "cherry\n"
     ]
    }
   ],
   "source": [
    "# You can loop through the tuple items by using a \"for\" loop\n",
    "# Example - Iterate through the items and print the values\n",
    "thistuple = (\"apple\", \"banana\", \"cherry\")\n",
    "for x in thistuple:\n",
    "    print(x)"
   ]
  },
  {
   "cell_type": "markdown",
   "id": "937e93e4",
   "metadata": {},
   "source": [
    "### Loop through the index numbers"
   ]
  },
  {
   "cell_type": "code",
   "execution_count": 5,
   "id": "acd696e9",
   "metadata": {},
   "outputs": [
    {
     "name": "stdout",
     "output_type": "stream",
     "text": [
      "apple\n",
      "banana\n",
      "cherry\n"
     ]
    }
   ],
   "source": [
    "# You can also loop through the tuple items by referring to their index number\n",
    "# Use the range() and len() functions to create a suitable iterable\n",
    "# Example - Print all items by referring to their index number\n",
    "thistuple = (\"apple\", \"banana\", \"cherry\")\n",
    "for i in range(len(thistuple)):\n",
    "    print(thistuple[i])"
   ]
  },
  {
   "cell_type": "markdown",
   "id": "548d2a19",
   "metadata": {},
   "source": [
    "### Using a While Loop"
   ]
  },
  {
   "cell_type": "code",
   "execution_count": 7,
   "id": "bce4f349",
   "metadata": {},
   "outputs": [],
   "source": [
    "# You can loop through the list items by using a while loop\n",
    "# Use the len() function to determine the length of the tuple,\n",
    "# then start at 0 and loop your way through the tuple items by refering to their indexes\n",
    "# Remember to increase the index by 1 after each iteration"
   ]
  },
  {
   "cell_type": "code",
   "execution_count": 8,
   "id": "b7674680",
   "metadata": {},
   "outputs": [
    {
     "name": "stdout",
     "output_type": "stream",
     "text": [
      "apple\n",
      "banana\n",
      "cherry\n"
     ]
    }
   ],
   "source": [
    "# Print all items, using a \"while\" loop to go through all the index numbers\n",
    "thistuple = (\"apple\", \"banana\", \"cherry\")\n",
    "i = 0\n",
    "while i < len(thistuple):\n",
    "    print(thistuple[i])\n",
    "    i = i + 1\n"
   ]
  },
  {
   "cell_type": "code",
   "execution_count": null,
   "id": "6d706ccd",
   "metadata": {},
   "outputs": [],
   "source": []
  }
 ],
 "metadata": {
  "kernelspec": {
   "display_name": "Python 3 (ipykernel)",
   "language": "python",
   "name": "python3"
  },
  "language_info": {
   "codemirror_mode": {
    "name": "ipython",
    "version": 3
   },
   "file_extension": ".py",
   "mimetype": "text/x-python",
   "name": "python",
   "nbconvert_exporter": "python",
   "pygments_lexer": "ipython3",
   "version": "3.9.7"
  }
 },
 "nbformat": 4,
 "nbformat_minor": 5
}
