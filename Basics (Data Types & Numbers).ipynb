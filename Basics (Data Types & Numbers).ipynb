{
 "cells": [
  {
   "cell_type": "markdown",
   "id": "234a1fb2",
   "metadata": {},
   "source": [
    "# Getting the Data Type"
   ]
  },
  {
   "cell_type": "code",
   "execution_count": 2,
   "id": "9cfbc949",
   "metadata": {},
   "outputs": [
    {
     "name": "stdout",
     "output_type": "stream",
     "text": [
      "<class 'int'>\n"
     ]
    }
   ],
   "source": [
    "# you can get the data type of any object by using the type() function:\n",
    "# Print the data type of the variable x:\n",
    "x = 5\n",
    "print(type(x))"
   ]
  },
  {
   "cell_type": "code",
   "execution_count": 3,
   "id": "e91a3d09",
   "metadata": {
    "scrolled": true
   },
   "outputs": [
    {
     "name": "stdout",
     "output_type": "stream",
     "text": [
      "<class 'str'>\n"
     ]
    }
   ],
   "source": [
    "x = \"Hello World\"\n",
    "print(type(x))b"
   ]
  },
  {
   "cell_type": "markdown",
   "id": "515d4a2f",
   "metadata": {},
   "source": [
    "# Python Numbers"
   ]
  },
  {
   "cell_type": "code",
   "execution_count": 32,
   "id": "ae9f7474",
   "metadata": {},
   "outputs": [],
   "source": [
    "# There are three numeric types in Python\n",
    "# int, float, complex\n",
    "# variables of numeric types are created when you assign a value to them\n",
    "x = 1    # int\n",
    "y = 2.8  # float\n",
    "z = 1j   # complex\n"
   ]
  },
  {
   "cell_type": "code",
   "execution_count": 33,
   "id": "32aa3f6d",
   "metadata": {},
   "outputs": [
    {
     "name": "stdout",
     "output_type": "stream",
     "text": [
      "<class 'int'>\n",
      "<class 'float'>\n",
      "<class 'complex'>\n"
     ]
    }
   ],
   "source": [
    "# to verify the type of any object in Python, use the type() function\n",
    "print (type(x))\n",
    "print (type(y))\n",
    "print (type(z))"
   ]
  },
  {
   "cell_type": "code",
   "execution_count": 4,
   "id": "d90ce909",
   "metadata": {},
   "outputs": [
    {
     "name": "stdout",
     "output_type": "stream",
     "text": [
      "<class 'float'>\n"
     ]
    }
   ],
   "source": [
    "x = 20.5\n",
    "print(type(x))"
   ]
  },
  {
   "cell_type": "markdown",
   "id": "084a2c44",
   "metadata": {},
   "source": [
    "# Int"
   ]
  },
  {
   "cell_type": "markdown",
   "id": "5fefba88",
   "metadata": {},
   "source": [
    "### Int, or integer is a whole number, positive or negative, without decimals, of unlimited length"
   ]
  },
  {
   "cell_type": "code",
   "execution_count": 38,
   "id": "494ed407",
   "metadata": {},
   "outputs": [
    {
     "name": "stdout",
     "output_type": "stream",
     "text": [
      "<class 'int'>\n",
      "<class 'int'>\n",
      "<class 'int'>\n"
     ]
    }
   ],
   "source": [
    "# Integers\n",
    "x = 1\n",
    "y = 35645728839999337211\n",
    "z = -32555125\n",
    "\n",
    "print(type(x))\n",
    "print (type(y))\n",
    "print (type(z))"
   ]
  },
  {
   "cell_type": "markdown",
   "id": "a5fc0d94",
   "metadata": {},
   "source": [
    "# Float"
   ]
  },
  {
   "cell_type": "markdown",
   "id": "05b09949",
   "metadata": {},
   "source": [
    "### Float, or Floating point number is a number, positive or negative, containing one or more decimals"
   ]
  },
  {
   "cell_type": "code",
   "execution_count": 41,
   "id": "ad1afbce",
   "metadata": {},
   "outputs": [
    {
     "name": "stdout",
     "output_type": "stream",
     "text": [
      "<class 'float'>\n",
      "<class 'float'>\n",
      "<class 'float'>\n"
     ]
    }
   ],
   "source": [
    "# Floats\n",
    "x = 1.10\n",
    "y = 1.0\n",
    "z = -35.59\n",
    "\n",
    "print(type(x))\n",
    "print (type(y))\n",
    "print (type(z))"
   ]
  },
  {
   "cell_type": "code",
   "execution_count": 43,
   "id": "15882734",
   "metadata": {},
   "outputs": [
    {
     "name": "stdout",
     "output_type": "stream",
     "text": [
      "<class 'float'>\n",
      "<class 'float'>\n",
      "<class 'float'>\n"
     ]
    }
   ],
   "source": [
    "# Float can also be scientific numbers with an \"e\" to indicate the power of 10\n",
    "\n",
    "x = 35e3\n",
    "y = 12e4\n",
    "z = -87.7e100\n",
    "\n",
    "print(type(x))\n",
    "print (type(y))\n",
    "print (type(z))"
   ]
  },
  {
   "cell_type": "markdown",
   "id": "365fcf6c",
   "metadata": {},
   "source": [
    "# Complex"
   ]
  },
  {
   "cell_type": "markdown",
   "id": "664502bb",
   "metadata": {},
   "source": [
    "### Complex numbers are written with a \"j\" as the imaginary part\n"
   ]
  },
  {
   "cell_type": "code",
   "execution_count": 46,
   "id": "85e35c24",
   "metadata": {},
   "outputs": [
    {
     "name": "stdout",
     "output_type": "stream",
     "text": [
      "<class 'complex'>\n",
      "<class 'complex'>\n",
      "<class 'complex'>\n"
     ]
    }
   ],
   "source": [
    "# Complex\n",
    "x = 3+5j\n",
    "y = 5j\n",
    "z = -5j\n",
    "\n",
    "print(type(x))\n",
    "print (type(y))\n",
    "print (type(z))"
   ]
  },
  {
   "cell_type": "markdown",
   "id": "803c3e44",
   "metadata": {},
   "source": [
    "# Type Conversion"
   ]
  },
  {
   "cell_type": "markdown",
   "id": "2f5e6072",
   "metadata": {},
   "source": [
    "### You can convert from one type to another with the int(), float() and complex()"
   ]
  },
  {
   "cell_type": "code",
   "execution_count": 50,
   "id": "bd77a657",
   "metadata": {},
   "outputs": [
    {
     "name": "stdout",
     "output_type": "stream",
     "text": [
      "1.0\n",
      "2\n",
      "0j\n"
     ]
    }
   ],
   "source": [
    "# convert from one type to another\n",
    "x = 1\n",
    "y = 2.8\n",
    "z = 1j\n",
    "\n",
    "# convert from int to float\n",
    "a = float(x)\n",
    "\n",
    "# convert from float to int\n",
    "b = int(y)\n",
    "\n",
    "# convert from int to complex\n",
    "c = complex()\n",
    "\n",
    "print(a)\n",
    "print(b)\n",
    "print(c)\n"
   ]
  },
  {
   "cell_type": "code",
   "execution_count": 51,
   "id": "d22caec7",
   "metadata": {},
   "outputs": [
    {
     "name": "stdout",
     "output_type": "stream",
     "text": [
      "<class 'float'>\n",
      "<class 'int'>\n",
      "<class 'complex'>\n"
     ]
    }
   ],
   "source": [
    "print(type(a))\n",
    "print(type(b))\n",
    "print(type(c))"
   ]
  },
  {
   "cell_type": "code",
   "execution_count": null,
   "id": "047409f7",
   "metadata": {},
   "outputs": [],
   "source": [
    "x = [\"apple\", \"banana\", \"cherry\"]\n",
    "print(type(x))"
   ]
  },
  {
   "cell_type": "code",
   "execution_count": 52,
   "id": "41e22bac",
   "metadata": {},
   "outputs": [],
   "source": [
    "# Note (you can not convert complex numbers into another number type)"
   ]
  },
  {
   "cell_type": "markdown",
   "id": "6cc88f79",
   "metadata": {},
   "source": [
    "# Random Number"
   ]
  },
  {
   "cell_type": "markdown",
   "id": "06169f2a",
   "metadata": {},
   "source": [
    "### Python doesnot have a random() function to make a random number, but it has a built-in modeule called random that can be used to make random numbers\n"
   ]
  },
  {
   "cell_type": "code",
   "execution_count": 55,
   "id": "ba96df35",
   "metadata": {},
   "outputs": [
    {
     "name": "stdout",
     "output_type": "stream",
     "text": [
      "9\n"
     ]
    }
   ],
   "source": [
    "# Import the random module, and display a random number between 1 and 9\n",
    "import random\n",
    "print(random.randrange(1, 10))"
   ]
  },
  {
   "cell_type": "markdown",
   "id": "c4ac0421",
   "metadata": {},
   "source": [
    "# Exercises"
   ]
  },
  {
   "cell_type": "code",
   "execution_count": 6,
   "id": "5d34efb1",
   "metadata": {},
   "outputs": [
    {
     "name": "stdout",
     "output_type": "stream",
     "text": [
      "<class 'tuple'>\n"
     ]
    }
   ],
   "source": [
    "x = (\"apple\", \"banana\", \"cherry\")\n",
    "print(type(x))"
   ]
  },
  {
   "cell_type": "code",
   "execution_count": 7,
   "id": "6005cb9d",
   "metadata": {},
   "outputs": [
    {
     "name": "stdout",
     "output_type": "stream",
     "text": [
      "<class 'dict'>\n"
     ]
    }
   ],
   "source": [
    "x = {\"name\": \"John\", \"age\": 36}\n",
    "print(type(x))"
   ]
  },
  {
   "cell_type": "code",
   "execution_count": 8,
   "id": "93d32200",
   "metadata": {},
   "outputs": [
    {
     "name": "stdout",
     "output_type": "stream",
     "text": [
      "<class 'bool'>\n"
     ]
    }
   ],
   "source": [
    "x = True\n",
    "print(type(x))"
   ]
  },
  {
   "cell_type": "code",
   "execution_count": 11,
   "id": "cb682899",
   "metadata": {},
   "outputs": [],
   "source": [
    "# insert the correct syntax to convert x into a floating point number\n",
    "x = 5\n",
    "x = float(x)"
   ]
  },
  {
   "cell_type": "code",
   "execution_count": 12,
   "id": "198a4193",
   "metadata": {},
   "outputs": [],
   "source": [
    "# Insert the correct syntax to convert x into a integer\n",
    "x = 5.5\n",
    "x = int(x)"
   ]
  },
  {
   "cell_type": "code",
   "execution_count": 13,
   "id": "dc54a403",
   "metadata": {},
   "outputs": [],
   "source": [
    "# insert the correct syntax to convert x into a complex number\n",
    "x = 5\n",
    "x = complex(x)"
   ]
  },
  {
   "cell_type": "code",
   "execution_count": 15,
   "id": "e11bf8c8",
   "metadata": {},
   "outputs": [
    {
     "name": "stdout",
     "output_type": "stream",
     "text": [
      "11\n"
     ]
    }
   ],
   "source": [
    "# use the 'len' method to print the length of the string\n",
    "x = \"Hello World\"\n",
    "print(len(x))"
   ]
  },
  {
   "cell_type": "code",
   "execution_count": 17,
   "id": "ecdbc514",
   "metadata": {},
   "outputs": [
    {
     "name": "stdout",
     "output_type": "stream",
     "text": [
      "H\n"
     ]
    }
   ],
   "source": [
    "# Get the first character of the string 'txt'\n",
    "txt = \"Hello World\"\n",
    "x = txt[0]\n",
    "print (x)"
   ]
  },
  {
   "cell_type": "code",
   "execution_count": 18,
   "id": "89862b45",
   "metadata": {},
   "outputs": [
    {
     "name": "stdout",
     "output_type": "stream",
     "text": [
      "e\n"
     ]
    }
   ],
   "source": [
    "# Get the second character of the string 'txt'\n",
    "txt = \"Hello World\"\n",
    "x = txt[1]\n",
    "print (x)"
   ]
  },
  {
   "cell_type": "code",
   "execution_count": 20,
   "id": "b83aa365",
   "metadata": {},
   "outputs": [
    {
     "name": "stdout",
     "output_type": "stream",
     "text": [
      "d\n"
     ]
    }
   ],
   "source": [
    "# Get the last character of the string 'txt'\n",
    "txt = \"Hello World\"\n",
    "x = txt[10]\n",
    "print (x)"
   ]
  },
  {
   "cell_type": "code",
   "execution_count": 25,
   "id": "2f0fcc9d",
   "metadata": {},
   "outputs": [
    {
     "name": "stdout",
     "output_type": "stream",
     "text": [
      "llo\n"
     ]
    }
   ],
   "source": [
    "# Get the characters from Index 2 to index 4 (llo)\n",
    "txt = \"Hello World\"\n",
    "x = txt[2:5]\n",
    "print(x)"
   ]
  },
  {
   "cell_type": "code",
   "execution_count": 28,
   "id": "63fc1985",
   "metadata": {},
   "outputs": [
    {
     "name": "stdout",
     "output_type": "stream",
     "text": [
      "Hello World\n"
     ]
    }
   ],
   "source": [
    "# Run the string without any whitespace at the beginning or the end\n",
    "txt = \"Hello World\"\n",
    "x = txt.strip()\n",
    "print(x)"
   ]
  },
  {
   "cell_type": "code",
   "execution_count": null,
   "id": "dbfbd371",
   "metadata": {},
   "outputs": [],
   "source": []
  }
 ],
 "metadata": {
  "kernelspec": {
   "display_name": "Python 3 (ipykernel)",
   "language": "python",
   "name": "python3"
  },
  "language_info": {
   "codemirror_mode": {
    "name": "ipython",
    "version": 3
   },
   "file_extension": ".py",
   "mimetype": "text/x-python",
   "name": "python",
   "nbconvert_exporter": "python",
   "pygments_lexer": "ipython3",
   "version": "3.9.7"
  }
 },
 "nbformat": 4,
 "nbformat_minor": 5
}
